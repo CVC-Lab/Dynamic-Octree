{
 "cells": [
  {
   "cell_type": "code",
   "execution_count": 24,
   "metadata": {},
   "outputs": [],
   "source": [
    "# Imports and initializing data\n",
    "import numpy as np\n",
    "import sys\n",
    "import time\n",
    "\n",
    "# Adding Octree to path\n",
    "sys.path.insert(0, \"../Octree/build/\")\n",
    "\n",
    "from octree import DynamicOctree, OctreeConstructionParams\n",
    "from objects import Object\n",
    "# Sizes\n",
    "sizes = [1000, 10000, 100000, 1000000]"
   ]
  },
  {
   "cell_type": "code",
   "execution_count": 18,
   "metadata": {},
   "outputs": [],
   "source": [
    "\n",
    "def measure_insertion_time(octree, size):\n",
    "    start_time = time.time()\n",
    "    for i in range(1, size):\n",
    "        octree.add_atom_to_non_leaf(0, i)\n",
    "    end_time = time.time()\n",
    "    return end_time - start_time"
   ]
  },
  {
   "cell_type": "code",
   "execution_count": 25,
   "metadata": {},
   "outputs": [
    {
     "ename": "AttributeError",
     "evalue": "'octree.DynamicOctree' object has no attribute 'add_atom_to_non_leaf'",
     "output_type": "error",
     "traceback": [
      "\u001b[0;31m---------------------------------------------------------------------------\u001b[0m",
      "\u001b[0;31mAttributeError\u001b[0m                            Traceback (most recent call last)",
      "\u001b[1;32m/Users/jeffrey/Documents/Programming/Bajaj/Dynamic-Octree/tests/timing.ipynb Cell 3\u001b[0m line \u001b[0;36m1\n\u001b[1;32m      <a href='vscode-notebook-cell:/Users/jeffrey/Documents/Programming/Bajaj/Dynamic-Octree/tests/timing.ipynb#W2sZmlsZQ%3D%3D?line=6'>7</a>\u001b[0m max_nodes \u001b[39m=\u001b[39m \u001b[39m100\u001b[39m\n\u001b[1;32m      <a href='vscode-notebook-cell:/Users/jeffrey/Documents/Programming/Bajaj/Dynamic-Octree/tests/timing.ipynb#W2sZmlsZQ%3D%3D?line=8'>9</a>\u001b[0m octree \u001b[39m=\u001b[39m DynamicOctree(objects, num_atoms, construction_params, verbose\u001b[39m=\u001b[39m\u001b[39mFalse\u001b[39;00m, max_nodes\u001b[39m=\u001b[39mmax_nodes)\n\u001b[0;32m---> <a href='vscode-notebook-cell:/Users/jeffrey/Documents/Programming/Bajaj/Dynamic-Octree/tests/timing.ipynb#W2sZmlsZQ%3D%3D?line=10'>11</a>\u001b[0m insertion_time \u001b[39m=\u001b[39m measure_insertion_time(octree, size)\n\u001b[1;32m     <a href='vscode-notebook-cell:/Users/jeffrey/Documents/Programming/Bajaj/Dynamic-Octree/tests/timing.ipynb#W2sZmlsZQ%3D%3D?line=11'>12</a>\u001b[0m \u001b[39mprint\u001b[39m(\u001b[39mf\u001b[39m\u001b[39m\"\u001b[39m\u001b[39mDataset size: \u001b[39m\u001b[39m{\u001b[39;00msize\u001b[39m}\u001b[39;00m\u001b[39m\"\u001b[39m)\n\u001b[1;32m     <a href='vscode-notebook-cell:/Users/jeffrey/Documents/Programming/Bajaj/Dynamic-Octree/tests/timing.ipynb#W2sZmlsZQ%3D%3D?line=12'>13</a>\u001b[0m \u001b[39mprint\u001b[39m(\u001b[39mf\u001b[39m\u001b[39m\"\u001b[39m\u001b[39mInsertion time: \u001b[39m\u001b[39m{\u001b[39;00minsertion_time\u001b[39m:\u001b[39;00m\u001b[39m.4f\u001b[39m\u001b[39m}\u001b[39;00m\u001b[39m seconds\u001b[39m\u001b[39m\"\u001b[39m)\n",
      "\u001b[1;32m/Users/jeffrey/Documents/Programming/Bajaj/Dynamic-Octree/tests/timing.ipynb Cell 3\u001b[0m line \u001b[0;36m4\n\u001b[1;32m      <a href='vscode-notebook-cell:/Users/jeffrey/Documents/Programming/Bajaj/Dynamic-Octree/tests/timing.ipynb#W2sZmlsZQ%3D%3D?line=1'>2</a>\u001b[0m start_time \u001b[39m=\u001b[39m time\u001b[39m.\u001b[39mtime()\n\u001b[1;32m      <a href='vscode-notebook-cell:/Users/jeffrey/Documents/Programming/Bajaj/Dynamic-Octree/tests/timing.ipynb#W2sZmlsZQ%3D%3D?line=2'>3</a>\u001b[0m \u001b[39mfor\u001b[39;00m i \u001b[39min\u001b[39;00m \u001b[39mrange\u001b[39m(\u001b[39m1\u001b[39m, size):\n\u001b[0;32m----> <a href='vscode-notebook-cell:/Users/jeffrey/Documents/Programming/Bajaj/Dynamic-Octree/tests/timing.ipynb#W2sZmlsZQ%3D%3D?line=3'>4</a>\u001b[0m     octree\u001b[39m.\u001b[39;49madd_atom_to_non_leaf(\u001b[39m0\u001b[39m, i)\n\u001b[1;32m      <a href='vscode-notebook-cell:/Users/jeffrey/Documents/Programming/Bajaj/Dynamic-Octree/tests/timing.ipynb#W2sZmlsZQ%3D%3D?line=4'>5</a>\u001b[0m end_time \u001b[39m=\u001b[39m time\u001b[39m.\u001b[39mtime()\n\u001b[1;32m      <a href='vscode-notebook-cell:/Users/jeffrey/Documents/Programming/Bajaj/Dynamic-Octree/tests/timing.ipynb#W2sZmlsZQ%3D%3D?line=5'>6</a>\u001b[0m \u001b[39mreturn\u001b[39;00m end_time \u001b[39m-\u001b[39m start_time\n",
      "\u001b[0;31mAttributeError\u001b[0m: 'octree.DynamicOctree' object has no attribute 'add_atom_to_non_leaf'"
     ]
    }
   ],
   "source": [
    "for size in sizes:\n",
    "    objects = [Object([0, 0, 0], 1)]\n",
    "    \n",
    "    num_atoms = len(objects)\n",
    "\n",
    "    construction_params = OctreeConstructionParams(max_leaf_size=5, max_leaf_dim=10, slack_factor=1.0)\n",
    "    max_nodes = 100\n",
    "\n",
    "    octree = DynamicOctree(objects, num_atoms, construction_params, verbose=False, max_nodes=max_nodes)\n",
    "\n",
    "    insertion_time = measure_insertion_time(octree, size)\n",
    "    print(f\"Dataset size: {size}\")\n",
    "    print(f\"Insertion time: {insertion_time:.4f} seconds\")\n",
    "    print()"
   ]
  }
 ],
 "metadata": {
  "kernelspec": {
   "display_name": "PyRosetta",
   "language": "python",
   "name": "python3"
  },
  "language_info": {
   "codemirror_mode": {
    "name": "ipython",
    "version": 3
   },
   "file_extension": ".py",
   "mimetype": "text/x-python",
   "name": "python",
   "nbconvert_exporter": "python",
   "pygments_lexer": "ipython3",
   "version": "3.12.2"
  },
  "orig_nbformat": 4
 },
 "nbformat": 4,
 "nbformat_minor": 2
}
