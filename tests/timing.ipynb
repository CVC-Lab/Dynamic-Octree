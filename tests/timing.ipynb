{
 "cells": [
  {
   "cell_type": "code",
   "execution_count": 1,
   "metadata": {},
   "outputs": [],
   "source": [
    "# Imports and constants\n",
    "import sys\n",
    "import os\n",
    "import time\n",
    "\n",
    "# Get the path to the Octree directory\n",
    "octree_dir = os.path.abspath(os.path.join(os.getcwd(), '..', 'Octree'))\n",
    "\n",
    "# Add the Octree directory to the Python path\n",
    "sys.path.append(octree_dir)\n",
    "\n",
    "# Import the DynamicOctree class from the compiled octree module\n",
    "from octree import DynamicOctree, OctreeConstructionParams\n",
    "from objects import Object\n",
    "\n",
    "SIZES = [100, 1000, 10000, 100000, 1000000, 10000000, 10000000]"
   ]
  },
  {
   "cell_type": "code",
   "execution_count": null,
   "metadata": {},
   "outputs": [],
   "source": []
  },
  {
   "cell_type": "code",
   "execution_count": 2,
   "metadata": {},
   "outputs": [],
   "source": [
    "def measure_insertion_time(octree, size):\n",
    "    start_time = time.time()\n",
    "    for i in range(1, size):\n",
    "        octree.add_atom_to_non_leaf(0, i)\n",
    "    end_time = time.time()\n",
    "    return end_time - start_time"
   ]
  },
  {
   "cell_type": "code",
   "execution_count": 3,
   "metadata": {},
   "outputs": [
    {
     "name": "stdout",
     "output_type": "stream",
     "text": [
      "Parent Nodes:\n",
      "Node ID: 1, Parent Node ID: 0\n",
      "Node ID: 2, Parent Node ID: 1\n",
      "Node ID: 3, Parent Node ID: 2\n",
      "Node ID: 4, Parent Node ID: 3\n",
      "Dataset size: 100\n",
      "Insertion time: 0.0002 seconds\n",
      "\n",
      "Parent Nodes:\n",
      "Node ID: 1, Parent Node ID: 0\n",
      "Node ID: 2, Parent Node ID: 1\n",
      "Node ID: 3, Parent Node ID: 2\n",
      "Node ID: 4, Parent Node ID: 3\n",
      "Dataset size: 1000\n",
      "Insertion time: 0.0012 seconds\n",
      "\n",
      "Parent Nodes:\n",
      "Node ID: 1, Parent Node ID: 0\n",
      "Node ID: 2, Parent Node ID: 1\n",
      "Node ID: 3, Parent Node ID: 2\n",
      "Node ID: 4, Parent Node ID: 3\n",
      "Dataset size: 10000\n",
      "Insertion time: 0.0116 seconds\n",
      "\n",
      "Parent Nodes:\n",
      "Node ID: 1, Parent Node ID: 0\n",
      "Node ID: 2, Parent Node ID: 1\n",
      "Node ID: 3, Parent Node ID: 2\n",
      "Node ID: 4, Parent Node ID: 3\n",
      "Dataset size: 100000\n",
      "Insertion time: 0.1092 seconds\n",
      "\n",
      "Parent Nodes:\n",
      "Node ID: 1, Parent Node ID: 0\n",
      "Node ID: 2, Parent Node ID: 1\n",
      "Node ID: 3, Parent Node ID: 2\n",
      "Node ID: 4, Parent Node ID: 3\n",
      "Dataset size: 1000000\n",
      "Insertion time: 1.1710 seconds\n",
      "\n",
      "Parent Nodes:\n",
      "Node ID: 1, Parent Node ID: 0\n",
      "Node ID: 2, Parent Node ID: 1\n",
      "Node ID: 3, Parent Node ID: 2\n",
      "Node ID: 4, Parent Node ID: 3\n",
      "Dataset size: 10000000\n",
      "Insertion time: 11.8099 seconds\n",
      "\n",
      "Parent Nodes:\n",
      "Node ID: 1, Parent Node ID: 0\n",
      "Node ID: 2, Parent Node ID: 1\n",
      "Node ID: 3, Parent Node ID: 2\n",
      "Node ID: 4, Parent Node ID: 3\n",
      "Dataset size: 10000000\n",
      "Insertion time: 11.2799 seconds\n",
      "\n"
     ]
    }
   ],
   "source": [
    "for size in SIZES:\n",
    "    # Octree initialization\n",
    "    objects = [Object([0, 0, 0], 1)]\n",
    "    num_atoms = len(objects)\n",
    "\n",
    "    construction_params = OctreeConstructionParams(max_leaf_size=5, max_leaf_dim=10, slack_factor=1.0)\n",
    "    max_nodes = 100\n",
    "\n",
    "    octree = DynamicOctree(objects, num_atoms, construction_params, verbose=False, max_nodes=max_nodes)\n",
    "\n",
    "    # Build Octree\n",
    "    octree.build_octree()\n",
    "    # Insertion time\n",
    "    insertion_time = measure_insertion_time(octree, size)\n",
    "    print(f\"Dataset size: {size}\")\n",
    "    print(f\"Insertion time: {insertion_time:.4f} seconds\")\n",
    "    print()"
   ]
  }
 ],
 "metadata": {
  "kernelspec": {
   "display_name": "PyRosetta",
   "language": "python",
   "name": "python3"
  },
  "language_info": {
   "codemirror_mode": {
    "name": "ipython",
    "version": 3
   },
   "file_extension": ".py",
   "mimetype": "text/x-python",
   "name": "python",
   "nbconvert_exporter": "python",
   "pygments_lexer": "ipython3",
   "version": "3.12.2"
  },
  "orig_nbformat": 4
 },
 "nbformat": 4,
 "nbformat_minor": 2
}
