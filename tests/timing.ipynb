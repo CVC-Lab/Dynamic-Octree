{
 "cells": [
  {
   "cell_type": "code",
   "execution_count": 19,
   "metadata": {},
   "outputs": [],
   "source": [
    "import sys\n",
    "import os\n",
    "import time\n",
    "\n",
    "# Get the path to the Octree directory\n",
    "octree_dir = os.path.abspath(os.path.join(os.getcwd(), '..', 'Octree'))\n",
    "\n",
    "# Add the Octree directory to the Python path\n",
    "sys.path.append(octree_dir)\n",
    "\n",
    "# Import the DynamicOctree class from the compiled octree module\n",
    "from octree import DynamicOctree, OctreeConstructionParams\n",
    "from objects import Object"
   ]
  },
  {
   "cell_type": "code",
   "execution_count": 21,
   "metadata": {},
   "outputs": [],
   "source": [
    "sizes = [100, 1000, 10000, 100000, 1000000, 10000000, 10000000]"
   ]
  },
  {
   "cell_type": "code",
   "execution_count": 17,
   "metadata": {},
   "outputs": [],
   "source": [
    "def measure_insertion_time(octree, size):\n",
    "    start_time = time.time()\n",
    "    for i in range(1, size):\n",
    "        octree.add_atom_to_non_leaf(0, i)\n",
    "    end_time = time.time()\n",
    "    return end_time - start_time"
   ]
  },
  {
   "cell_type": "code",
   "execution_count": null,
   "metadata": {},
   "outputs": [],
   "source": [
    "for size in sizes:\n",
    "    objects = [Object([0, 0, 0], 1)]\n",
    "    \n",
    "    num_atoms = len(objects)\n",
    "\n",
    "    construction_params = OctreeConstructionParams(max_leaf_size=5, max_leaf_dim=10, slack_factor=1.0)\n",
    "    max_nodes = 100\n",
    "\n",
    "    octree = DynamicOctree(objects, num_atoms, construction_params, verbose=False, max_nodes=max_nodes)\n",
    "\n",
    "    octree.build_octree()\n",
    "    octree.print_test()\n",
    "    insertion_time = measure_insertion_time(octree, size)\n",
    "    print(f\"Dataset size: {size}\")\n",
    "    print(f\"Insertion time: {insertion_time:.4f} seconds\")\n",
    "    print()"
   ]
  },
  {
   "cell_type": "code",
   "execution_count": null,
   "metadata": {},
   "outputs": [],
   "source": [
    "size = 10000\n",
    "\n",
    "for i in range(size):\n",
    "    octree.insert(Object([0, 0, 0], 1))"
   ]
  }
 ],
 "metadata": {
  "kernelspec": {
   "display_name": "PyRosetta",
   "language": "python",
   "name": "python3"
  },
  "language_info": {
   "codemirror_mode": {
    "name": "ipython",
    "version": 3
   },
   "file_extension": ".py",
   "mimetype": "text/x-python",
   "name": "python",
   "nbconvert_exporter": "python",
   "pygments_lexer": "ipython3",
   "version": "3.12.2"
  },
  "orig_nbformat": 4
 },
 "nbformat": 4,
 "nbformat_minor": 2
}
